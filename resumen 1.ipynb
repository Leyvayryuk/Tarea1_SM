{
 "cells": [
  {
   "cell_type": "markdown",
   "metadata": {},
   "source": [
    "## Resumen 1:\n",
    "\n",
    "# Why Python training is totally worth It.\n"
   ]
  },
  {
   "cell_type": "markdown",
   "metadata": {},
   "source": [
    "Actualmente Phython se ha vuelto uno de los lenguajes de programación mas usados debido a la simplicidad de su lenguaje y a la facilidad que tiene este para ser entendido y explotado a su máximo potencial.\n",
    "\n",
    "Este artículo hace especial énfasis en la importancia que conocer este lenguaje de programación tiene en diversos sectores productivos como:\n",
    "+ Programción de sitios web  \n",
    "+ Desarrollo de algoritmos capaces de analizar protocolos de identificación como:\n",
    "    - Reconocimiento facial\n",
    "    + Funciones de reconocimento verbal o dictado \n",
    "    "
   ]
  },
  {
   "cell_type": "markdown",
   "metadata": {},
   "source": [
    "Dentro de las razones ya explicadas en el artículo se encuentra la versatilidad y facilidad de capacitar a tu equipo de trabajo con esta herramienta ademas de que el uso de bibliotecas instalables o predifinidas en Python nos permite solucionar problemas de manera creativa y eficiente.\n",
    "\n",
    "La conclusión final del artículo es que sin importar las razones por la cual decidas utilizar Python invertir en su aprendizaje siempre valdrá la pena debido a su infinidad de aplicaciones."
   ]
  }
 ],
 "metadata": {
  "kernelspec": {
   "display_name": "Python 3",
   "language": "python",
   "name": "python3"
  },
  "language_info": {
   "codemirror_mode": {
    "name": "ipython",
    "version": 3
   },
   "file_extension": ".py",
   "mimetype": "text/x-python",
   "name": "python",
   "nbconvert_exporter": "python",
   "pygments_lexer": "ipython3",
   "version": "3.7.3"
  }
 },
 "nbformat": 4,
 "nbformat_minor": 2
}
