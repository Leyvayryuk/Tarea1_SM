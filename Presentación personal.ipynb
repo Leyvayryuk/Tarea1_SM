{
 "cells": [
  {
   "cell_type": "markdown",
   "metadata": {},
   "source": [
    "# Presentación personal  \n",
    "\n",
    "## Angel Leyva Trejo\n"
   ]
  },
  {
   "cell_type": "markdown",
   "metadata": {},
   "source": [
    "Mi nombre es Angel Leyva Trejo. Actualmente estoy cursando la carrera de ingeniera civil en el Instituto Tecnológico de Estudios Superiores de Occidente tambien conocido como ITESO. Tengo 19 años y mido un metro con noventa y seis centímetros."
   ]
  },
  {
   "cell_type": "markdown",
   "metadata": {},
   "source": [
    "Actualmente práctico como hobbie el baloncesto, boxeo y levantamiento de pesas. Dentro de mis aficiones más enfocadas estan la politica, el dibujo y la creación de una novela de fantasia en proceso. \n",
    "\n",
    "Me considero una persona relativamente callada y amable. Soy muy competitivo conmigo mismo y siempre busco dar lo mejor de mi en las actividades que desempeño. Desde la semana pasada obtuve mi primer trabajo en el Teleperfomance ubicado al lado del Tec Milenio, esto me mantendrá ocupado practicamente todo el verano. \n",
    "\n",
    "Decidí estudiar ingeniería civil porque siempre he querido que mi trabajo afecte de manera positiva la vida de las personas y que manera mas directa mediante la creación de infraestructura que permita el desarrollo social, educativo y económico. La construcción es uno de los segmentos más subestimados porque estamos acostumbrados a las urbes en cosntante crecimiento, pero esa no es la realidad predominante en nuestro país, por eso lo que para algunos puede ser un simple puente puede ser un elemento que define es estado de una comunidad que de verdad requiere esa infraestructura.\n",
    "\n"
   ]
  }
 ],
 "metadata": {
  "kernelspec": {
   "display_name": "Python 3",
   "language": "python",
   "name": "python3"
  },
  "language_info": {
   "codemirror_mode": {
    "name": "ipython",
    "version": 3
   },
   "file_extension": ".py",
   "mimetype": "text/x-python",
   "name": "python",
   "nbconvert_exporter": "python",
   "pygments_lexer": "ipython3",
   "version": "3.7.3"
  }
 },
 "nbformat": 4,
 "nbformat_minor": 2
}
