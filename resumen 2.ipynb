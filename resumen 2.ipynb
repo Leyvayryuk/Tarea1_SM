{
 "cells": [
  {
   "cell_type": "markdown",
   "metadata": {},
   "source": [
    "## Resumen 2:"
   ]
  },
  {
   "cell_type": "markdown",
   "metadata": {},
   "source": [
    "# Why Python is so popular with developers: 3 reasons the language has exploded"
   ]
  },
  {
   "cell_type": "markdown",
   "metadata": {},
   "source": [
    "Este artículo busca explicar de manera más concreta el porque Python es actualmente el lenguaje de programción de mayor crecimiento a nivel global, gracias a las 3 siguiente razones:\n"
   ]
  },
  {
   "cell_type": "markdown",
   "metadata": {},
   "source": [
    "### Facilidad de aprendizaje.\n"
   ]
  },
  {
   "cell_type": "markdown",
   "metadata": {},
   "source": [
    "**Phyton** es uno de los lenguajes de programación con la sintaxis más sencilla lo cual hace que a la hora de programar sea muy intuitivo y de rapida lectura.\n",
    "\n",
    "Sin mencionar el hecho de que su potente papel como lenguaje traductor te permite realizar mucho con muy pocas lineas de codigo. Gracias a esto vuelve su uso una grata experiencia para aquellos interesados de poca paciencia que buscan gratificación inmediata de sus sesiones de programación."
   ]
  },
  {
   "cell_type": "markdown",
   "metadata": {},
   "source": [
    "### La explosión de la inteligencia artificial, el aprendizaje automático y el uso de la ciencia de datos aplicada a la empresa."
   ]
  },
  {
   "cell_type": "markdown",
   "metadata": {},
   "source": [
    "La segunda razón por la cual [Python](https://www.python.org) es un leguaje tan popular es debido a su infindad de aplicaciones dentro de la industria de la inteligencia artificial y la programción del aprendizaje de maquinaria. Incluso Phyton tiene relevancia para el desarrollo de sistemas operativos y ciencia de datos y protocolos de seguridad como encriptación y codificación de datos personales o de uso exclusivo."
   ]
  },
  {
   "cell_type": "markdown",
   "metadata": {},
   "source": [
    "### Su gran comunidad de desarrolladores.\n"
   ]
  },
  {
   "cell_type": "markdown",
   "metadata": {},
   "source": [
    "Gracias a la gran creatividad de terceros tenemos infinidad de bibliotecas de uso abierto creadas por aficionados a la informática las cuales enriquecen y fortalecen los puntos debiles de Phyton permitiendo que sea un lenguaje mas completo y con aun mayor numero de usos gracias a estas bibliotecas."
   ]
  },
  {
   "cell_type": "markdown",
   "metadata": {},
   "source": [
    "#### Conclusiones.\n"
   ]
  },
  {
   "cell_type": "markdown",
   "metadata": {},
   "source": [
    "Python es un poderoso lenguaje de programación que tiene muchas más cosas a su favor que desventajas. su facilidad de lectura, sus aplicaciones y su comunidad de desarrolladores hacen que como bien merecido lo tiene sea el lenguaje de programación con mayor influencia en la actualidad."
   ]
  }
 ],
 "metadata": {
  "kernelspec": {
   "display_name": "Python 3",
   "language": "python",
   "name": "python3"
  },
  "language_info": {
   "codemirror_mode": {
    "name": "ipython",
    "version": 3
   },
   "file_extension": ".py",
   "mimetype": "text/x-python",
   "name": "python",
   "nbconvert_exporter": "python",
   "pygments_lexer": "ipython3",
   "version": "3.7.3"
  }
 },
 "nbformat": 4,
 "nbformat_minor": 2
}
